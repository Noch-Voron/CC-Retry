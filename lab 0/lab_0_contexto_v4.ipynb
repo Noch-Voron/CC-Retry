{
 "cells": [
  {
   "cell_type": "markdown",
   "metadata": {
    "id": "UwEmdYX0nTEJ"
   },
   "source": [
    "# INF285 - Computación Científica\n",
    "# Laboratorio 0 - Contexto\n",
    "## 21 de marzo de 2025"
   ]
  },
  {
   "cell_type": "markdown",
   "metadata": {},
   "source": [
    "## 1. Vectorización con Numpy\n",
    "\n",
    "\n",
    "Una operación está **vectorizada** cuando se aplica sobre un vector como un **todo**. Por el contrario, si una operación se aplica explícitamente sobre cada componente del vector, elemento por elemento, esta operación no está vectorizada.\n",
    "\n",
    "En Python, si se trabaja con grandes volúmenes de datos organizados en vectores y matrices, **es muy importante vectorizar los algoritmos con NumPy para que el código sea más eficiente**. El código nativo de Python es lento en comparación con otros lenguajes como C, y si no se toma ventaja de la estructura de datos y las operaciones que ofrece NumPy, trabajar con grandes cantidades de datos puede tomar tiempos excesivos.\n"
   ]
  },
  {
   "cell_type": "markdown",
   "metadata": {},
   "source": [
    "### 1.1 Ejemplo: sumar dos vectores\n",
    "\n",
    "\n",
    "Suponga que queremos calcular la suma de dos vectores $\\mathbf{z} = \\mathbf{x} + \\mathbf{y}$, donde $\\mathbf{z}$ es un nuevo vector tal que su primer elemento es la suma de los primeros elementos de $\\mathbf{x}$ e $\\mathbf{y}$, luego el segundo elemento es la suma de los segundos elementos de $\\mathbf{x}$ e $\\mathbf{y}$, y así sucesivamente."
   ]
  },
  {
   "cell_type": "code",
   "execution_count": 4,
   "metadata": {},
   "outputs": [],
   "source": [
    "# cantidad de elementos en cada arreglo\n",
    "N = 10_000"
   ]
  },
  {
   "cell_type": "markdown",
   "metadata": {},
   "source": [
    "Creamos una función que genere dos arreglos."
   ]
  },
  {
   "cell_type": "code",
   "execution_count": 2,
   "metadata": {},
   "outputs": [],
   "source": [
    "import math\n",
    "# Input:\n",
    "#   n:  length of the two arrays to be created\n",
    "# Output:\n",
    "#   x:  an array of length n, where x[i] = sqrt(i)\n",
    "#   y:  an array of length n, where y[i] = i*exp(1)\n",
    "# Note:\n",
    "#   exp(1) is the base of the natural logarithm.\n",
    "def test1_creating_2_arrays_with_append(n):\n",
    "    x = []\n",
    "    y = []\n",
    "    e = math.exp(1)\n",
    "    for i in range(n):\n",
    "        x.append(math.sqrt(i))\n",
    "        y.append(i*e)\n",
    "    return x, y"
   ]
  },
  {
   "cell_type": "markdown",
   "metadata": {},
   "source": [
    "Calculamos el tiempo promedio para la función anterior que genera los dos arreglos"
   ]
  },
  {
   "cell_type": "code",
   "execution_count": 5,
   "metadata": {},
   "outputs": [
    {
     "name": "stdout",
     "output_type": "stream",
     "text": [
      "1.79 ms ± 168 μs per loop (mean ± std. dev. of 7 runs, 100 loops each)\n"
     ]
    }
   ],
   "source": [
    "T_test1 = %timeit -o test1_creating_2_arrays_with_append(N)"
   ]
  },
  {
   "cell_type": "markdown",
   "metadata": {},
   "source": [
    "Ahora utilizamos la estructura `ndarray` de Numpy para generar dos arreglos."
   ]
  },
  {
   "cell_type": "code",
   "execution_count": 7,
   "metadata": {},
   "outputs": [],
   "source": [
    "import numpy as np\n",
    "# Input:\n",
    "#   n:  length of the two arrays to be created\n",
    "# Output:\n",
    "#   x:  an array of length n, where x[i] = sqrt(i)\n",
    "#   y:  an array of length n, where y[i] = i*exp(1)\n",
    "# Note:\n",
    "#   exp(1) is the base of the natural logarithm.\n",
    "def test2_creating_2_arrays_with_numpy(n):\n",
    "    x = np.sqrt(np.arange(n))\n",
    "    y = np.arange(n)*np.exp(1)\n",
    "    return x, y"
   ]
  },
  {
   "cell_type": "markdown",
   "metadata": {},
   "source": [
    "Calculamos el tiempo promedio para la función anterior que genera los dos arreglos con Numpy."
   ]
  },
  {
   "cell_type": "code",
   "execution_count": 8,
   "metadata": {},
   "outputs": [
    {
     "name": "stdout",
     "output_type": "stream",
     "text": [
      "36.4 μs ± 2.51 μs per loop (mean ± std. dev. of 7 runs, 10,000 loops each)\n"
     ]
    }
   ],
   "source": [
    "T_test2 = %timeit -o test2_creating_2_arrays_with_numpy(N)"
   ]
  },
  {
   "cell_type": "markdown",
   "metadata": {},
   "source": [
    "En el siguiente gráfico podemos observar la diferencia de utilizar ambas funciones."
   ]
  },
  {
   "cell_type": "code",
   "execution_count": 9,
   "metadata": {},
   "outputs": [
    {
     "data": {
      "image/png": "[encoded data removed]",
      "text/plain": [
       "<Figure size 400x300 with 1 Axes>"
      ]
     },
     "metadata": {},
     "output_type": "display_data"
    }
   ],
   "source": [
    "import matplotlib.pyplot as plt\n",
    "\n",
    "plt.figure(figsize=(4, 3))\n",
    "plt.semilogy(1*np.ones(len(T_test1.timings)),T_test1.timings,'r.',label='test1-append')\n",
    "plt.semilogy(2*np.ones(len(T_test2.timings)),T_test2.timings,'b.',label='test2-numpy')\n",
    "plt.grid(True)\n",
    "plt.legend(loc='best')\n",
    "plt.ylabel('Time (s)')\n",
    "plt.title('Creating two arrays of length 10,000')\n",
    "plt.xlim(0,3)\n",
    "plt.xticks([0.5,1,1.5,2,2.5],['','test1-append','','test2-numpy',''],rotation=45)\n",
    "plt.show()"
   ]
  },
  {
   "cell_type": "markdown",
   "metadata": {},
   "source": [
    "Ahora vamos a crear funciones que sumen ambos arreglos de forma no vectorizada (utilizando listas)"
   ]
  },
  {
   "cell_type": "code",
   "execution_count": 11,
   "metadata": {},
   "outputs": [],
   "source": [
    "# Suma no vectorizada de x e y, usando un bucle for.\n",
    "def test3_add_two_arrays_not_vectorized(x, y):\n",
    "    z = []\n",
    "    for i in range(len(x)):\n",
    "        z.append(x[i] + y[i])\n",
    "    return z"
   ]
  },
  {
   "cell_type": "markdown",
   "metadata": {},
   "source": [
    "Calculamos el tiempo promedio para la función anterior."
   ]
  },
  {
   "cell_type": "code",
   "execution_count": 12,
   "metadata": {},
   "outputs": [
    {
     "name": "stdout",
     "output_type": "stream",
     "text": [
      "654 μs ± 55.9 μs per loop (mean ± std. dev. of 7 runs, 1,000 loops each)\n"
     ]
    }
   ],
   "source": [
    "x, y = test1_creating_2_arrays_with_append(N)\n",
    "T_test3 = %timeit -o test3_add_two_arrays_not_vectorized(x, y)"
   ]
  },
  {
   "cell_type": "markdown",
   "metadata": {},
   "source": [
    "También es posible realizar la operación anterior usando una **comprensión de lista** (list comprehension), la cual crea directamente una lista donde cada elemento sigue un formato específico, en este caso `x[i] + y[i]`:"
   ]
  },
  {
   "cell_type": "code",
   "execution_count": 13,
   "metadata": {},
   "outputs": [],
   "source": [
    "# Suma no vectorizada de x e y, usando una comprension de lista.\n",
    "def test4_add_two_arrays_with_compherension_list(x, y):\n",
    "    return [x[i] + y[i] for i in range(len(x))]"
   ]
  },
  {
   "cell_type": "markdown",
   "metadata": {},
   "source": [
    "Calculamos el tiempo promedio para la función anterior."
   ]
  },
  {
   "cell_type": "code",
   "execution_count": 14,
   "metadata": {},
   "outputs": [
    {
     "name": "stdout",
     "output_type": "stream",
     "text": [
      "627 μs ± 47.3 μs per loop (mean ± std. dev. of 7 runs, 1,000 loops each)\n"
     ]
    }
   ],
   "source": [
    "T_test4 = %timeit -o test4_add_two_arrays_with_compherension_list(x, y)"
   ]
  },
  {
   "cell_type": "markdown",
   "metadata": {},
   "source": [
    "Una tercera opción sería usar la función `map`, que aplica una función sobre todos los elementos de uno o más iterables, retornando un nuevo iterable. En este caso, se aplica sobre $\\mathbf{x}$ e $\\mathbf{y}$ una función que toma dos valores y retorna su suma:"
   ]
  },
  {
   "cell_type": "code",
   "execution_count": 15,
   "metadata": {},
   "outputs": [],
   "source": [
    "# Suma no vectorizada de x e y, usando la funcion map.\n",
    "funcion = lambda elem1, elem2: elem1 + elem2\n",
    "def test5_add_two_arrays_with_map(x, y):\n",
    "    return list(map(funcion, x, y))"
   ]
  },
  {
   "cell_type": "markdown",
   "metadata": {},
   "source": [
    "Calculamos el tiempo promedio para la función anterior."
   ]
  },
  {
   "cell_type": "code",
   "execution_count": 16,
   "metadata": {},
   "outputs": [
    {
     "name": "stdout",
     "output_type": "stream",
     "text": [
      "891 μs ± 40.7 μs per loop (mean ± std. dev. of 7 runs, 1,000 loops each)\n"
     ]
    }
   ],
   "source": [
    "T_test5 = %timeit -o test5_add_two_arrays_with_map(x, y)"
   ]
  },
  {
   "cell_type": "markdown",
   "metadata": {},
   "source": [
    "Sin embargo, ninguna de las tres opciones anteriores es un **algoritmo vectorizado**. Una suma de dos vectores utilizando un algoritmo vectorizado se debe aplicar de la siguiente manera:"
   ]
  },
  {
   "cell_type": "code",
   "execution_count": 17,
   "metadata": {},
   "outputs": [
    {
     "name": "stdout",
     "output_type": "stream",
     "text": [
      "5 μs ± 596 ns per loop (mean ± std. dev. of 7 runs, 100,000 loops each)\n"
     ]
    }
   ],
   "source": [
    "x,y = test2_creating_2_arrays_with_numpy(N)\n",
    "T_test6 = %timeit -o z = x + y"
   ]
  },
  {
   "cell_type": "markdown",
   "metadata": {},
   "source": [
    "En el siguiente gráfico podemos observar la diferencia de utilizar las funciones anteriores para sumar dos arreglos."
   ]
  },
  {
   "cell_type": "code",
   "execution_count": 18,
   "metadata": {},
   "outputs": [
    {
     "data": {
      "image/png": "[encoded data removed]",
      "text/plain": [
       "<Figure size 400x300 with 1 Axes>"
      ]
     },
     "metadata": {},
     "output_type": "display_data"
    }
   ],
   "source": [
    "plt.figure(figsize=(4, 3))\n",
    "plt.semilogy(1*np.ones(len(T_test3.timings)),T_test3.timings,'r.',label='test3-for')\n",
    "plt.semilogy(2*np.ones(len(T_test4.timings)),T_test4.timings,'b.',label='test4-comprehension')\n",
    "plt.semilogy(3*np.ones(len(T_test5.timings)),T_test5.timings,'g.',label='test5-map')\n",
    "plt.semilogy(4*np.ones(len(T_test6.timings)),T_test6.timings,'m.',label='test6-numpy')\n",
    "plt.grid(True)\n",
    "plt.legend(loc='best')\n",
    "plt.ylabel('Time (s)')\n",
    "plt.title('Adding two arrays of length 10,000')\n",
    "plt.xlim(0,5)\n",
    "plt.xticks([0.5,1,1.5,2,2.5,3,3.5,4,4.5],['','test3-for','','test4-compre','','test5-map','','test6-numpy',''],rotation=45)\n",
    "plt.show()"
   ]
  },
  {
   "cell_type": "markdown",
   "metadata": {},
   "source": [
    "Notar que en el código solo se escribe la suma directa entre $\\mathbf{x}$ e $\\mathbf{y}$.\n",
    "A diferencia del primer código, no se hace explícita la operación de sumar componente por componente para obtener el nuevo vector.\n",
    "\n",
    "La operación queda implícita, y es abstraída por la suma directa `x + y` en el código. \n",
    "Esta suma se aplica sobre los vectores $\\mathbf{x}$ e $\\mathbf{y}$ como un todo, por lo que se dice que está vectorizada."
   ]
  },
  {
   "cell_type": "markdown",
   "metadata": {},
   "source": [
    "## 2. Numpy"
   ]
  },
  {
   "cell_type": "markdown",
   "metadata": {},
   "source": [
    "NumPy es una librería para trabajar en Python con vectores, matrices y en general arreglos $n$-dimensionales, de manera eficiente. NumPy define su propio tipo de dato: `numpy.ndarray`, un arreglo $n$-dimensional que tiene diferencias notables con las listas de Python. Una manera de crear un `ndarray` es usando el método `numpy.array`, al cual se le puede entregar una lista de Python. Vamos a revisar algunos conceptos fundamentales de Numpy (revisar <a href=\"https://www.nature.com/articles/s41586-020-2649-2\">Array programming with NumPy</a>)\n",
    "Primero vamos a importar la librería:"
   ]
  },
  {
   "cell_type": "code",
   "execution_count": 2,
   "metadata": {},
   "outputs": [],
   "source": [
    "import numpy as np"
   ]
  },
  {
   "cell_type": "markdown",
   "metadata": {},
   "source": [
    "Vamos a crear un vector $\\mathbf{x}$ y una matriz $A$:"
   ]
  },
  {
   "cell_type": "code",
   "execution_count": 3,
   "metadata": {},
   "outputs": [],
   "source": [
    "x = np.array([7.,8.,9.,10.,11.,12.])\n",
    "A = np.array([[1.,2.,3.],[4.,5.,6.]])"
   ]
  },
  {
   "cell_type": "markdown",
   "metadata": {},
   "source": [
    "### 2.1 Conceptos fundamentales"
   ]
  },
  {
   "cell_type": "markdown",
   "metadata": {},
   "source": [
    "### a) Estructura de Datos\n",
    "\n",
    "Podemos obtener la información de la estructura de datos `ndarray`, tales como el tipo de datos que se encuentra en el arreglo así como también las dimensiones.\n",
    "\n",
    "![title](img/a_data_structure.png)"
   ]
  },
  {
   "cell_type": "code",
   "execution_count": 21,
   "metadata": {},
   "outputs": [
    {
     "name": "stdout",
     "output_type": "stream",
     "text": [
      " Valores: \n",
      "x:\n",
      " [ 7.  8.  9. 10. 11. 12.]\n",
      "A:\n",
      " [[1. 2. 3.]\n",
      " [4. 5. 6.]]\n",
      " \n",
      "Tipo de datos: \n",
      "x:\n",
      " float64\n",
      "A:\n",
      " float64\n",
      " \n",
      "Estructura de datos: \n",
      "x:\n",
      " ndarray\n",
      "A:\n",
      " ndarray\n",
      " \n",
      "Dimensiones: \n",
      "x:\n",
      " (6,)\n",
      "A:\n",
      " (2, 3)\n"
     ]
    }
   ],
   "source": [
    "print(' Valores: ')\n",
    "print('x:\\n',x)\n",
    "print('A:\\n',A)\n",
    "\n",
    "print(' \\nTipo de datos: ')\n",
    "print('x:\\n',x.dtype)\n",
    "print('A:\\n',A.dtype)\n",
    "\n",
    "print(' \\nEstructura de datos: ')\n",
    "print('x:\\n',type(x).__name__)\n",
    "print('A:\\n',type(A).__name__)\n",
    "\n",
    "print(' \\nDimensiones: ')\n",
    "print('x:\\n',x.shape)\n",
    "print('A:\\n',A.shape)"
   ]
  },
  {
   "cell_type": "markdown",
   "metadata": {},
   "source": [
    "### b) Indexación (view)\n",
    "\n",
    "![title](img/b_indexacion.png)\n",
    "\n",
    "Para explicar cómo funciona la indexación (view), vamos a crear un arreglo de dimensión $4 \\times 3$ (una matriz):"
   ]
  },
  {
   "cell_type": "code",
   "execution_count": 43,
   "metadata": {},
   "outputs": [
    {
     "name": "stdout",
     "output_type": "stream",
     "text": [
      " Valores: \n",
      "A:\n",
      " [[ 0  1  2]\n",
      " [ 3  4  5]\n",
      " [ 6  7  8]\n",
      " [ 9 10 11]]\n"
     ]
    }
   ],
   "source": [
    "A = np.array([[0,1,2],[3,4,5],[6,7,8],[9,10,11]])\n",
    "print(' Valores: ')\n",
    "print('A:\\n',A)"
   ]
  },
  {
   "cell_type": "markdown",
   "metadata": {},
   "source": [
    "Vamos a mostrar solamente la **segunda y tercera** columna de la matriz utilizando **slices** y vamos a almacenar esos valores en otro arreglo:"
   ]
  },
  {
   "cell_type": "code",
   "execution_count": null,
   "metadata": {},
   "outputs": [
    {
     "name": "stdout",
     "output_type": "stream",
     "text": [
      "B = A[:,1:]\n",
      "\n",
      "[[ 1  2]\n",
      " [ 8  9]\n",
      " [11 12]\n",
      " [ 6  7]]\n"
     ]
    }
   ],
   "source": [
    "print('B = A[:,1:]\\n')\n",
    "print(A[:,:1])\n",
    "B = A[:,1:]"
   ]
  },
  {
   "cell_type": "markdown",
   "metadata": {},
   "source": [
    "Cuando hablamos de **view** se refiere a que el arreglo $B$ es una *vista* de los valores de $A$ seleccionados. Vamos a modificar un valor del arreglo $A$ y veamos qué sucede con el arreglo $B$:"
   ]
  },
  {
   "cell_type": "code",
   "execution_count": null,
   "metadata": {},
   "outputs": [],
   "source": [
    "A[0,1] = 99\n",
    "print('A:\\n',A)\n",
    "print('\\nB:\\n',B)"
   ]
  },
  {
   "cell_type": "markdown",
   "metadata": {},
   "source": [
    "El valor en el arreglo $B$ también se ha modificado!\n",
    "\n",
    "Para evitar estas confusiones, podemos utilizar el método `numpy.copy()`:"
   ]
  },
  {
   "cell_type": "code",
   "execution_count": 11,
   "metadata": {},
   "outputs": [
    {
     "name": "stdout",
     "output_type": "stream",
     "text": [
      "A:\n",
      " [[ 0  1  2]\n",
      " [ 7  8  9]\n",
      " [10 11 12]\n",
      " [ 4  6  7]]\n",
      "\n",
      "B:\n",
      " [[ 1  2]\n",
      " [ 8  9]\n",
      " [11 12]\n",
      " [ 6  7]]\n",
      "\n",
      "C:\n",
      " [[ 1  2]\n",
      " [ 8  9]\n",
      " [11 12]\n",
      " [ 6  7]]\n"
     ]
    }
   ],
   "source": [
    "C = np.copy(A[:,1:])\n",
    "\n",
    "#volvemos al valor original\n",
    "A[0,1] = 1\n",
    "print('A:\\n',A)\n",
    "print('\\nB:\\n',B)\n",
    "print('\\nC:\\n',C)"
   ]
  },
  {
   "cell_type": "markdown",
   "metadata": {},
   "source": [
    "Podemos observar que el arreglo $C$ no sufre modificaciones."
   ]
  },
  {
   "cell_type": "markdown",
   "metadata": {},
   "source": [
    "El **slice** también nos permite trabajar con los **steps**, es decir, podemos acceder a los valores de los arreglos (a lo largo de algún eje) *saltando* cierta cantidad de pasos. Por ejemplo, en la siguiente instrucción accedemos a la **primera y tercera** columna del arreglo $A$:"
   ]
  },
  {
   "cell_type": "code",
   "execution_count": 12,
   "metadata": {},
   "outputs": [
    {
     "name": "stdout",
     "output_type": "stream",
     "text": [
      "A[:,::2]\n",
      "\n",
      "[[ 0  2]\n",
      " [ 7  9]\n",
      " [10 12]\n",
      " [ 4  7]]\n"
     ]
    }
   ],
   "source": [
    "print('A[:,::2]\\n')\n",
    "print(A[:,::2])"
   ]
  },
  {
   "cell_type": "markdown",
   "metadata": {},
   "source": [
    "### c) Indexación (copy)\n",
    "\n",
    "![title](img/c_indexacion.png)\n",
    "\n",
    "Para explicar cómo funciona la indexación (copy), seguiremos trabajando con el mismo arreglo $A$ de dimensión $4 \\times 3$. En esta parte veremos varias opciones para \"copiar\" los datos desde las estructuras `ndarray`"
   ]
  },
  {
   "cell_type": "code",
   "execution_count": null,
   "metadata": {},
   "outputs": [],
   "source": [
    "print('A:\\n')\n",
    "print(A)"
   ]
  },
  {
   "cell_type": "markdown",
   "metadata": {},
   "source": [
    "**Con escalares:**"
   ]
  },
  {
   "cell_type": "code",
   "execution_count": null,
   "metadata": {},
   "outputs": [],
   "source": [
    "u = A[1,2]\n",
    "\n",
    "print('u:\\n')\n",
    "print(u)"
   ]
  },
  {
   "cell_type": "markdown",
   "metadata": {},
   "source": [
    "Notar que si modificamos el valor de $u$, no se modifica el arreglo $A$:"
   ]
  },
  {
   "cell_type": "code",
   "execution_count": null,
   "metadata": {},
   "outputs": [],
   "source": [
    "u = 999\n",
    "print('u:\\n')\n",
    "print(u)\n",
    "print('\\nA:\\n')\n",
    "print(A)"
   ]
  },
  {
   "cell_type": "markdown",
   "metadata": {},
   "source": [
    "**Con máscaras (MASKS)**:"
   ]
  },
  {
   "cell_type": "code",
   "execution_count": null,
   "metadata": {},
   "outputs": [],
   "source": [
    "v = A[A > 9]\n",
    "\n",
    "print('v:\\n')\n",
    "print(v)"
   ]
  },
  {
   "cell_type": "markdown",
   "metadata": {},
   "source": [
    "**Con arreglos (arrays):**"
   ]
  },
  {
   "cell_type": "code",
   "execution_count": null,
   "metadata": {},
   "outputs": [],
   "source": [
    "w = A[[0,1],[1,2]]\n",
    "\n",
    "print('w:\\n')\n",
    "print(w)"
   ]
  },
  {
   "cell_type": "markdown",
   "metadata": {},
   "source": [
    "**Con arreglos (arrays) y broadcasting:**"
   ]
  },
  {
   "cell_type": "code",
   "execution_count": null,
   "metadata": {},
   "outputs": [],
   "source": [
    "z = A[[[1],[2]],[1,0]]\n",
    "\n",
    "print('z:\\n')\n",
    "print(z)"
   ]
  },
  {
   "cell_type": "markdown",
   "metadata": {},
   "source": [
    "### d) Vectorización\n",
    "\n",
    "![title](img/d_vectorizacion.png)\n",
    "\n",
    "Para entender este punto, veamos un ejemplo en donde vamos a sumar dos arreglos, cada uno de dimensión $4 \\times 3$."
   ]
  },
  {
   "cell_type": "code",
   "execution_count": 4,
   "metadata": {},
   "outputs": [
    {
     "name": "stdout",
     "output_type": "stream",
     "text": [
      "A:\n",
      "\n",
      "[[ 0  1  2]\n",
      " [ 7  8  9]\n",
      " [10 11 12]\n",
      " [ 4  6  7]]\n",
      "\n",
      "B:\n",
      "\n",
      "[[ 3  4  5]\n",
      " [ 1  3  5]\n",
      " [ 0  9  3]\n",
      " [ 9 10 12]]\n"
     ]
    }
   ],
   "source": [
    "A = np.array([[0,1,2],[7,8,9],[10,11,12],[4,6,7]])\n",
    "B = np.array([[3,4,5],[1,3,5],[0,9,3],[9,10,12]])\n",
    "\n",
    "print('A:\\n')\n",
    "print(A)\n",
    "print('\\nB:\\n')\n",
    "print(B)"
   ]
  },
  {
   "cell_type": "markdown",
   "metadata": {},
   "source": [
    "Una primera implementación sería recorrer cada arreglo y sumar elemento a elemento:"
   ]
  },
  {
   "cell_type": "code",
   "execution_count": 5,
   "metadata": {},
   "outputs": [
    {
     "name": "stdout",
     "output_type": "stream",
     "text": [
      "C:\n",
      "\n",
      "[[ 3  5  7]\n",
      " [ 8 11 14]\n",
      " [10 20 15]\n",
      " [13 16 19]]\n"
     ]
    }
   ],
   "source": [
    "def sumar_dos_arreglos(A,B):\n",
    "    C = np.zeros_like(A) # What does this function do?\n",
    "    for i in range(4):\n",
    "        for j in range(3):\n",
    "            C[i,j] = A[i,j] + B[i,j]\n",
    "    return C\n",
    "\n",
    "C = sumar_dos_arreglos(A,B)\n",
    "print('C:\\n')\n",
    "print(C)"
   ]
  },
  {
   "cell_type": "markdown",
   "metadata": {},
   "source": [
    "Veamos el tiempo promedio de la función anterior:"
   ]
  },
  {
   "cell_type": "code",
   "execution_count": 6,
   "metadata": {},
   "outputs": [
    {
     "name": "stdout",
     "output_type": "stream",
     "text": [
      "10.1 μs ± 737 ns per loop (mean ± std. dev. of 7 runs, 100,000 loops each)\n"
     ]
    }
   ],
   "source": [
    "t_1 = %timeit -o sumar_dos_arreglos(A,B)"
   ]
  },
  {
   "cell_type": "markdown",
   "metadata": {},
   "source": [
    "Veamos ahora el tiempo promedio con Numpy, es decir, utilizando vectorización:"
   ]
  },
  {
   "cell_type": "code",
   "execution_count": 7,
   "metadata": {},
   "outputs": [
    {
     "name": "stdout",
     "output_type": "stream",
     "text": [
      "642 ns ± 53.9 ns per loop (mean ± std. dev. of 7 runs, 1,000,000 loops each)\n"
     ]
    }
   ],
   "source": [
    "t_2 = %timeit -o A + B"
   ]
  },
  {
   "cell_type": "markdown",
   "metadata": {},
   "source": [
    "Podemos calcular cuántas veces es más rápido la vectorización sobre el cálculo de la suma con doble ciclo for."
   ]
  },
  {
   "cell_type": "code",
   "execution_count": 13,
   "metadata": {},
   "outputs": [
    {
     "data": {
      "text/plain": [
       "15.756025499133413"
      ]
     },
     "execution_count": 13,
     "metadata": {},
     "output_type": "execute_result"
    }
   ],
   "source": [
    "t_1.average/t_2.average"
   ]
  },
  {
   "cell_type": "markdown",
   "metadata": {},
   "source": [
    "**Es muy importante, dado el análisis anterior, familiarizarse con la vectorización de Numpy**"
   ]
  },
  {
   "cell_type": "markdown",
   "metadata": {},
   "source": [
    "### e) Broadcasting\n",
    "\n",
    "![title](img/e_broadcasting.png)"
   ]
  },
  {
   "cell_type": "markdown",
   "metadata": {},
   "source": [
    "Comenzaremos creando un arreglo 1D, esta es la forma más recomendada para crear *vectores* con Numpy. Esto simula un *vector fila*."
   ]
  },
  {
   "cell_type": "code",
   "execution_count": 14,
   "metadata": {},
   "outputs": [
    {
     "name": "stdout",
     "output_type": "stream",
     "text": [
      "x1: [1 2 3]\n",
      "shape: (3,)\n",
      "dtype: int64\n",
      "type name: ndarray\n"
     ]
    }
   ],
   "source": [
    "x1 = np.array([1,2,3])\n",
    "print('x1:',x1)\n",
    "print('shape:',x1.shape)\n",
    "print('dtype:',x1.dtype)\n",
    "print('type name:',type(x1).__name__)"
   ]
  },
  {
   "cell_type": "markdown",
   "metadata": {},
   "source": [
    "Creamos un arreglo 2D con una fila."
   ]
  },
  {
   "cell_type": "code",
   "execution_count": null,
   "metadata": {},
   "outputs": [
    {
     "name": "stdout",
     "output_type": "stream",
     "text": [
      "x2: [[1 2 3]]\n",
      "x1 [1 2 3]\n",
      "shape: (1, 3)\n",
      "dtype: int64\n",
      "type name: ndarray\n"
     ]
    }
   ],
   "source": [
    "x2 = x1[np.newaxis] # What does np.newaxis do?, Agrega una nueva dimensión al arreglo. [<- [1,2,3] ->]\n",
    "print('x2:',x2)\n",
    "print('x1', x1)\n",
    "print('shape:',x2.shape)\n",
    "print('dtype:',x2.dtype)\n",
    "print('type name:',type(x2).__name__)"
   ]
  },
  {
   "cell_type": "markdown",
   "metadata": {},
   "source": [
    "Ahora transponemos el arreglo 2D. Esto simula un *vector columna*."
   ]
  },
  {
   "cell_type": "code",
   "execution_count": 18,
   "metadata": {},
   "outputs": [
    {
     "name": "stdout",
     "output_type": "stream",
     "text": [
      "x2:\n",
      " [[1]\n",
      " [2]\n",
      " [3]]\n",
      "shape: (3, 1)\n",
      "dtype: int64\n",
      "type name: ndarray\n"
     ]
    }
   ],
   "source": [
    "x2 = x1[np.newaxis].T #.T causa la transposición de la matriz\n",
    "print('x2:\\n',x2)\n",
    "print('shape:',x2.shape)\n",
    "print('dtype:',x2.dtype)\n",
    "print('type name:',type(x2).__name__)"
   ]
  },
  {
   "cell_type": "markdown",
   "metadata": {},
   "source": [
    "Ahora que tenemos un arreglo 1D que simula un vector fila y otro que simula un vector columna, podemos realizar un **BROADCAST** y ver qué sucede.  "
   ]
  },
  {
   "cell_type": "code",
   "execution_count": null,
   "metadata": {},
   "outputs": [
    {
     "name": "stdout",
     "output_type": "stream",
     "text": [
      "x1: [1 2 3]\n",
      "\n",
      "x2:\n",
      " [[1]\n",
      " [2]\n",
      " [3]]\n",
      "\n",
      "x3:\n",
      " [[2 3 4]\n",
      " [3 4 5]\n",
      " [4 5 6]]\n",
      "shape: (3, 3)\n",
      "dtype: int64\n",
      "type name: ndarray\n"
     ]
    }
   ],
   "source": [
    "print('x1:',x1)\n",
    "print('\\nx2:\\n',x2)\n",
    "\n",
    "x3 = x1 + x2\n",
    "print('\\nx3:\\n',x3)\n",
    "print('shape:',x3.shape)\n",
    "print('dtype:',x3.dtype)\n",
    "print('type name:',type(x3).__name__)"
   ]
  },
  {
   "cell_type": "markdown",
   "metadata": {},
   "source": [
    "Lo anterior es equivalente a las siguientes instrucciones:"
   ]
  },
  {
   "cell_type": "code",
   "execution_count": 24,
   "metadata": {},
   "outputs": [
    {
     "name": "stdout",
     "output_type": "stream",
     "text": [
      "x11:\n",
      " [[1 2 3]\n",
      " [1 2 3]\n",
      " [1 2 3]]\n",
      "\n",
      "x21:\n",
      " [[1 1 1]\n",
      " [2 2 2]\n",
      " [3 3 3]]\n",
      "\n",
      "x31:\n",
      " [[2 3 4]\n",
      " [3 4 5]\n",
      " [4 5 6]]\n",
      "shape: (3, 3)\n",
      "dtype: int64\n",
      "type name: ndarray\n"
     ]
    }
   ],
   "source": [
    "# Repeat the 1d array 'vertically' 3 times.\n",
    "x11 = np.tile(x1, (3,1)) \n",
    "print('x11:\\n',x11)\n",
    "\n",
    "# Repeat the 2d array 'horizontally' 3 times.\n",
    "x21 = np.tile(x2, 3) \n",
    "print('\\nx21:\\n',x21)\n",
    "\n",
    "x31 = x11 + x21\n",
    "print('\\nx31:\\n',x31)\n",
    "print('shape:',x31.shape)\n",
    "print('dtype:',x31.dtype)\n",
    "print('type name:',type(x31).__name__)"
   ]
  },
  {
   "cell_type": "markdown",
   "metadata": {},
   "source": [
    "Como ustede debe sospechar, la forma anterior no es la recomendable para sumar, se incluye como una forma de comparar utilizando *broadcasting*."
   ]
  },
  {
   "cell_type": "markdown",
   "metadata": {},
   "source": [
    "Veamos otro ejemplo utilizando *broadcasting* para un producto:"
   ]
  },
  {
   "cell_type": "code",
   "execution_count": 25,
   "metadata": {},
   "outputs": [
    {
     "name": "stdout",
     "output_type": "stream",
     "text": [
      "y1:\n",
      " [[0]\n",
      " [3]\n",
      " [6]\n",
      " [9]]\n",
      "\n",
      "y2:\n",
      " [1 2]\n",
      "\n",
      "y3:\n",
      " [[ 0  0]\n",
      " [ 3  6]\n",
      " [ 6 12]\n",
      " [ 9 18]]\n"
     ]
    }
   ],
   "source": [
    "y = np.array([0,3,6,9])\n",
    "\n",
    "y1 = y[np.newaxis].T\n",
    "print('y1:\\n',y1)\n",
    "\n",
    "y2 = np.array([1,2])\n",
    "print('\\ny2:\\n',y2)\n",
    "\n",
    "y3 = y1 * y2\n",
    "print('\\ny3:\\n',y3)"
   ]
  },
  {
   "cell_type": "markdown",
   "metadata": {},
   "source": [
    "### f) Reduction\n",
    "\n",
    "![title](img/f_reduction.png)"
   ]
  },
  {
   "cell_type": "markdown",
   "metadata": {},
   "source": [
    "Las reducciones consisten en *reducir* la dimensionalidad con respecto a la estructura original. A continuación se muestran algunos ejemplos:"
   ]
  },
  {
   "cell_type": "code",
   "execution_count": 26,
   "metadata": {},
   "outputs": [
    {
     "name": "stdout",
     "output_type": "stream",
     "text": [
      "X:\n",
      " [[ 0  1  2]\n",
      " [ 3  4  5]\n",
      " [ 6  7  8]\n",
      " [ 9 10 11]]\n",
      "\n",
      "Sumar a lo largo del eje 0 (axis = 0):\n",
      "s1 = np.sum(X,axis=0)\n",
      "\n",
      "s1:\n",
      " [18 22 26]\n",
      "shape: (3,)\n",
      "dtype: int64\n",
      "type name: ndarray\n",
      "\n",
      "Sumar a lo largo del eje 1 (axis = 1):\n",
      "s2 = np.sum(X,axis=1)\n",
      "\n",
      "s2:\n",
      " [ 3 12 21 30]\n",
      "shape: (4,)\n",
      "dtype: int64\n",
      "type name: ndarray\n",
      "\n",
      "Sumar a lo largo del eje 0 y 1 (axis = 0 y 1):\n",
      "s3 = np.sum(X)\n",
      "\n",
      "s3:\n",
      " 66\n",
      "shape: ()\n",
      "dtype: int64\n",
      "type name: int64\n"
     ]
    }
   ],
   "source": [
    "X = np.array([[0,1,2],[3,4,5],[6,7,8],[9,10,11]])\n",
    "print('X:\\n',X)\n",
    "\n",
    "print('\\nSumar a lo largo del eje 0 (axis = 0):')\n",
    "print('s1 = np.sum(X,axis=0)')\n",
    "s1 = np.sum(X,axis=0)\n",
    "print('\\ns1:\\n',s1)\n",
    "print('shape:',s1.shape)\n",
    "print('dtype:',s1.dtype)\n",
    "print('type name:',type(s1).__name__)\n",
    "\n",
    "print('\\nSumar a lo largo del eje 1 (axis = 1):')\n",
    "print('s2 = np.sum(X,axis=1)')\n",
    "s2 = np.sum(X,axis=1)\n",
    "print('\\ns2:\\n',s2)\n",
    "print('shape:',s2.shape)\n",
    "print('dtype:',s2.dtype)\n",
    "print('type name:',type(s2).__name__)\n",
    "\n",
    "print('\\nSumar a lo largo del eje 0 y 1 (axis = 0 y 1):')\n",
    "print('s3 = np.sum(X)')\n",
    "s3 = np.sum(X)\n",
    "print('\\ns3:\\n',s3)\n",
    "print('shape:',s3.shape)\n",
    "print('dtype:',s3.dtype)\n",
    "print('type name:',type(s3).__name__)"
   ]
  },
  {
   "cell_type": "markdown",
   "metadata": {},
   "source": [
    "### 2.2 Por qué vectorizar operaciones con NumPy\n",
    "\n",
    "La ejecución de los programas de Python es más lenta en comparación a programas escritos en otros lenguajes como C. Esto se debe a varias razones: por ejemplo, Python es dinámicamente tipado, es decir, los tipos de cada objeto se verifican en tiempo de ejecución, lo que hace difícil optimizar el código de antemano.\n",
    "\n",
    "En Python, todo es un objeto, incluyendo enteros, flotantes, funciones, etc. Cada objeto es un PyObject en C, que contiene información sobre la clase del objeto, sus atributos, métodos, etc. Debido a que incluso tipos de datos tan elementales como los enteros son objetos con varios metadatos, trabajar con ellos es más costoso.\n",
    "\n",
    "Por otra parte, las listas nativas de Python contienen objetos que pueden ser de cualquier tipo: se puede mezclar enteros, funciones, booleanos, etc. en una misma lista. Las listas contienen un arreglo de punteros que apuntan a los PyObjects, por lo que sus datos no están contiguos en memoria, además de tener mucha información extra, lo cual hace más costoso acceder a los datos y realizar operaciones con ellos.\n",
    "\n",
    "Es por esto, que usar bucles for, comprensiones de lista o la función `map` en Python para realizar operaciones sobre listas de Python es muy ineficiente, y hay que buscar alternativas a esto.\n"
   ]
  },
  {
   "cell_type": "markdown",
   "metadata": {},
   "source": [
    "\n",
    "NumPy soluciona estos problemas:\n",
    "\n",
    "* Los ndarrays de NumPy son similares a los arreglos de C,** que contienen directamente los datos de un solo tipo de dato. Existen ndarrays de solo ints, de solo floats, etc. Todos estos datos están contiguos en memoria, no tienen metadatos adicionales, y en general usar ndarrays es más eficiente que usar listas de Python.\n",
    "\n",
    "* Las operaciones vectorizadas que permite hacer NumPy, trabajan por detrás con código precompilado en C.** Por ejemplo, la suma de dos vectores de enteros en NumPy implica trabajar por detrás sumando componente por componente, pero todo esto se realiza en el rápido lenguaje C, con el tipo de dato int, sin incurrir en costos extra de crear PyObjects, lo cual es mucho más eficiente. Compárese esto con sumar componente por componente en Python, que sí tiene esos costos."
   ]
  },
  {
   "cell_type": "markdown",
   "metadata": {},
   "source": [
    "Veamos ahora algunas operaciones comunes en Numpy:"
   ]
  },
  {
   "cell_type": "markdown",
   "metadata": {},
   "source": [
    "**Sumar una constante a todos los elementos de un arreglo**"
   ]
  },
  {
   "cell_type": "code",
   "execution_count": 27,
   "metadata": {},
   "outputs": [
    {
     "name": "stdout",
     "output_type": "stream",
     "text": [
      "x:[ 2.  1. -3.  5.  8.]\n"
     ]
    }
   ],
   "source": [
    "x = np.array([2., 1., -3., 5., 8.])\n",
    "x + 5\n",
    "\n",
    "print(f\"x:{x}\")"
   ]
  },
  {
   "cell_type": "markdown",
   "metadata": {},
   "source": [
    "**Sumar o multiplicar todos los elementos de un arreglo**"
   ]
  },
  {
   "cell_type": "code",
   "execution_count": 28,
   "metadata": {},
   "outputs": [
    {
     "data": {
      "text/plain": [
       "np.int64(15)"
      ]
     },
     "execution_count": 28,
     "metadata": {},
     "output_type": "execute_result"
    }
   ],
   "source": [
    "np.sum([1, 2, 3, 4, 5]) # retorna 1 + 2 + 3 + 4 + 5 = 15."
   ]
  },
  {
   "cell_type": "code",
   "execution_count": 29,
   "metadata": {},
   "outputs": [
    {
     "data": {
      "text/plain": [
       "np.int64(120)"
      ]
     },
     "execution_count": 29,
     "metadata": {},
     "output_type": "execute_result"
    }
   ],
   "source": [
    "np.prod([1, 2, 3, 4, 5]) # retorna 1*2*3*4*5 = 120."
   ]
  },
  {
   "cell_type": "markdown",
   "metadata": {},
   "source": [
    "**Obtener el logaritmo natural (en base $e$) de todos los elementos de un arreglo**"
   ]
  },
  {
   "cell_type": "code",
   "execution_count": 30,
   "metadata": {},
   "outputs": [
    {
     "data": {
      "text/plain": [
       "np.float64(0.6931471805599453)"
      ]
     },
     "execution_count": 30,
     "metadata": {},
     "output_type": "execute_result"
    }
   ],
   "source": [
    "np.log(2)"
   ]
  },
  {
   "cell_type": "code",
   "execution_count": 31,
   "metadata": {},
   "outputs": [
    {
     "data": {
      "text/plain": [
       "array([0.        , 0.69314718, 1.09861229, 1.38629436, 1.60943791])"
      ]
     },
     "execution_count": 31,
     "metadata": {},
     "output_type": "execute_result"
    }
   ],
   "source": [
    "np.log([1., 2., 3., 4., 5.])"
   ]
  },
  {
   "cell_type": "markdown",
   "metadata": {},
   "source": [
    "**Producto interno (o punto) entre dos vectores**"
   ]
  },
  {
   "cell_type": "code",
   "execution_count": 32,
   "metadata": {},
   "outputs": [
    {
     "data": {
      "text/plain": [
       "np.float64(20.0)"
      ]
     },
     "execution_count": 32,
     "metadata": {},
     "output_type": "execute_result"
    }
   ],
   "source": [
    "x = np.array([2., 10., 3.])\n",
    "y = np.array([-1., 1., 4.])\n",
    "np.dot(x, y)"
   ]
  },
  {
   "cell_type": "code",
   "execution_count": null,
   "metadata": {},
   "outputs": [],
   "source": [
    "x @ y # el operador @ (matrix multiplication) tambien sirve para el producto punto."
   ]
  },
  {
   "cell_type": "markdown",
   "metadata": {},
   "source": [
    "**Producto matriz-vector**"
   ]
  },
  {
   "cell_type": "code",
   "execution_count": 33,
   "metadata": {},
   "outputs": [
    {
     "name": "stdout",
     "output_type": "stream",
     "text": [
      "A:[[ 1.  2.  3.]\n",
      " [-2.  3.  4.]]\n",
      "x:[ 2.  1. -6.]\n"
     ]
    }
   ],
   "source": [
    "A = np.array([[1., 2., 3.], [-2., 3., 4.]])\n",
    "print(f\"A:{A}\")\n",
    "\n",
    "x = np.array([2., 1., -6.])\n",
    "print(f\"x:{x}\")"
   ]
  },
  {
   "cell_type": "code",
   "execution_count": 34,
   "metadata": {},
   "outputs": [
    {
     "data": {
      "text/plain": [
       "array([-14., -25.])"
      ]
     },
     "execution_count": 34,
     "metadata": {},
     "output_type": "execute_result"
    }
   ],
   "source": [
    "np.dot(A, x)"
   ]
  },
  {
   "cell_type": "code",
   "execution_count": 35,
   "metadata": {},
   "outputs": [
    {
     "data": {
      "text/plain": [
       "array([-14., -25.])"
      ]
     },
     "execution_count": 35,
     "metadata": {},
     "output_type": "execute_result"
    }
   ],
   "source": [
    "A @ x # el operador @ (matrix multiplication) tambien sirve."
   ]
  },
  {
   "cell_type": "markdown",
   "metadata": {},
   "source": [
    "**Calcular potencias de arreglos**"
   ]
  },
  {
   "cell_type": "code",
   "execution_count": 36,
   "metadata": {},
   "outputs": [
    {
     "data": {
      "text/plain": [
       "np.float64(81.0)"
      ]
     },
     "execution_count": 36,
     "metadata": {},
     "output_type": "execute_result"
    }
   ],
   "source": [
    "np.power(3., 4.) # eleva el primer argumento al segundo argumento."
   ]
  },
  {
   "cell_type": "code",
   "execution_count": 37,
   "metadata": {},
   "outputs": [
    {
     "data": {
      "text/plain": [
       "array([ 1.,  4.,  9., 16.])"
      ]
     },
     "execution_count": 37,
     "metadata": {},
     "output_type": "execute_result"
    }
   ],
   "source": [
    "np.power([1., 2., 3., 4.], 2.) # eleva los elementos del ndarray a 2: [1^2, 2^2, 3^2, 4^2]."
   ]
  },
  {
   "cell_type": "code",
   "execution_count": 38,
   "metadata": {},
   "outputs": [
    {
     "data": {
      "text/plain": [
       "array([ 2.,  4.,  8., 16.])"
      ]
     },
     "execution_count": 38,
     "metadata": {},
     "output_type": "execute_result"
    }
   ],
   "source": [
    "np.power(2., [1., 2., 3., 4.]) # eleva 2 a los elementos del ndarray: [2^1, 2^2, 2^3, 2^4]."
   ]
  },
  {
   "cell_type": "code",
   "execution_count": 39,
   "metadata": {},
   "outputs": [
    {
     "data": {
      "text/plain": [
       "array([  1.,  32., 729.])"
      ]
     },
     "execution_count": 39,
     "metadata": {},
     "output_type": "execute_result"
    }
   ],
   "source": [
    "np.power([1., 2., 3.], [4., 5., 6.]) # produce [1^4, 2^5, 3^6]."
   ]
  },
  {
   "cell_type": "markdown",
   "metadata": {},
   "source": [
    "**Encontrar la norma de un vector**"
   ]
  },
  {
   "cell_type": "code",
   "execution_count": 40,
   "metadata": {},
   "outputs": [
    {
     "data": {
      "text/plain": [
       "np.float64(5.0)"
      ]
     },
     "execution_count": 40,
     "metadata": {},
     "output_type": "execute_result"
    }
   ],
   "source": [
    "x = np.array([3., 4.])\n",
    "\n",
    "np.linalg.norm(x) # raiz(3^2 + 4^2) = raiz(25) = 5."
   ]
  },
  {
   "cell_type": "code",
   "execution_count": 41,
   "metadata": {},
   "outputs": [
    {
     "name": "stdout",
     "output_type": "stream",
     "text": [
      "A:[[3 4]\n",
      " [1 2]\n",
      " [3 1]]\n"
     ]
    }
   ],
   "source": [
    "A = np.array([[3, 4], [1, 2], [3, 1]])\n",
    "\n",
    "print(f\"A:{A}\")"
   ]
  },
  {
   "cell_type": "code",
   "execution_count": 42,
   "metadata": {},
   "outputs": [
    {
     "data": {
      "text/plain": [
       "array([4.35889894, 4.58257569])"
      ]
     },
     "execution_count": 42,
     "metadata": {},
     "output_type": "execute_result"
    }
   ],
   "source": [
    "np.linalg.norm(A, axis=0) # obtiene la norma de los 2 vectores columna (eje externo)."
   ]
  },
  {
   "cell_type": "code",
   "execution_count": 43,
   "metadata": {},
   "outputs": [
    {
     "data": {
      "text/plain": [
       "array([5.        , 2.23606798, 3.16227766])"
      ]
     },
     "execution_count": 43,
     "metadata": {},
     "output_type": "execute_result"
    }
   ],
   "source": [
    "np.linalg.norm(A, axis=1) # obtiene la norma de los 3 vectores fila (eje interno)."
   ]
  },
  {
   "cell_type": "markdown",
   "metadata": {},
   "source": [
    "**Comparar cuáles elementos de un vector cumplen una condición**"
   ]
  },
  {
   "cell_type": "code",
   "execution_count": 44,
   "metadata": {},
   "outputs": [
    {
     "data": {
      "text/plain": [
       "array([False, False,  True,  True, False])"
      ]
     },
     "execution_count": 44,
     "metadata": {},
     "output_type": "execute_result"
    }
   ],
   "source": [
    "x = np.array([2, 4, 6, 8, 1])\n",
    "\n",
    "x > 5 # cuales elementos son mayores a 5: True si el elemento es mayor a 5, False si no."
   ]
  },
  {
   "cell_type": "markdown",
   "metadata": {},
   "source": [
    "También podemos saber cuántos elementos cumplen la condición"
   ]
  },
  {
   "cell_type": "code",
   "execution_count": 45,
   "metadata": {},
   "outputs": [
    {
     "data": {
      "text/plain": [
       "np.int64(2)"
      ]
     },
     "execution_count": 45,
     "metadata": {},
     "output_type": "execute_result"
    }
   ],
   "source": [
    "np.sum(x > 5)"
   ]
  },
  {
   "cell_type": "markdown",
   "metadata": {},
   "source": [
    "**Vectorizar una función propia**\n",
    "\n",
    "En algunos casos construimos funciones que luego deben ser ejecutadas sobre algún arreglo. El siguiente código por ejemplo, calcula el valor absoluto de la resta entre dos números mediante un condicional."
   ]
  },
  {
   "cell_type": "code",
   "execution_count": 46,
   "metadata": {},
   "outputs": [],
   "source": [
    "def restaAbs(a,b):\n",
    "    if a > b:\n",
    "        return a - b\n",
    "    else:\n",
    "        return b - a"
   ]
  },
  {
   "cell_type": "code",
   "execution_count": 47,
   "metadata": {},
   "outputs": [
    {
     "data": {
      "text/plain": [
       "3"
      ]
     },
     "execution_count": 47,
     "metadata": {},
     "output_type": "execute_result"
    }
   ],
   "source": [
    "#ejecutamos la función para a = 9 y b = 12\n",
    "a,b = 9,12\n",
    "restaAbs(a,b)"
   ]
  },
  {
   "cell_type": "markdown",
   "metadata": {},
   "source": [
    "No hay problema en ejecutar nuestra función sobre un par de valores, pero ¿Qué sucede si ahora quiero ejecutar la función sobre varios valores de un `np.array`?"
   ]
  },
  {
   "cell_type": "code",
   "execution_count": 48,
   "metadata": {},
   "outputs": [
    {
     "ename": "ValueError",
     "evalue": "The truth value of an array with more than one element is ambiguous. Use a.any() or a.all()",
     "output_type": "error",
     "traceback": [
      "\u001b[31m---------------------------------------------------------------------------\u001b[39m",
      "\u001b[31mValueError\u001b[39m                                Traceback (most recent call last)",
      "\u001b[36mCell\u001b[39m\u001b[36m \u001b[39m\u001b[32mIn[48]\u001b[39m\u001b[32m, line 3\u001b[39m\n\u001b[32m      1\u001b[39m a = np.array([\u001b[32m1\u001b[39m, \u001b[32m5\u001b[39m, \u001b[32m9\u001b[39m, \u001b[32m15\u001b[39m])\n\u001b[32m      2\u001b[39m b = \u001b[32m7\u001b[39m\n\u001b[32m----> \u001b[39m\u001b[32m3\u001b[39m \u001b[43mrestaAbs\u001b[49m\u001b[43m(\u001b[49m\u001b[43ma\u001b[49m\u001b[43m,\u001b[49m\u001b[43mb\u001b[49m\u001b[43m)\u001b[49m\n",
      "\u001b[36mCell\u001b[39m\u001b[36m \u001b[39m\u001b[32mIn[46]\u001b[39m\u001b[32m, line 2\u001b[39m, in \u001b[36mrestaAbs\u001b[39m\u001b[34m(a, b)\u001b[39m\n\u001b[32m      1\u001b[39m \u001b[38;5;28;01mdef\u001b[39;00m\u001b[38;5;250m \u001b[39m\u001b[34mrestaAbs\u001b[39m(a,b):\n\u001b[32m----> \u001b[39m\u001b[32m2\u001b[39m     \u001b[38;5;28;01mif\u001b[39;00m \u001b[43ma\u001b[49m\u001b[43m \u001b[49m\u001b[43m>\u001b[49m\u001b[43m \u001b[49m\u001b[43mb\u001b[49m:\n\u001b[32m      3\u001b[39m         \u001b[38;5;28;01mreturn\u001b[39;00m a - b\n\u001b[32m      4\u001b[39m     \u001b[38;5;28;01melse\u001b[39;00m:\n",
      "\u001b[31mValueError\u001b[39m: The truth value of an array with more than one element is ambiguous. Use a.any() or a.all()"
     ]
    }
   ],
   "source": [
    "a = np.array([1, 5, 9, 15])\n",
    "b = 7\n",
    "restaAbs(a,b)"
   ]
  },
  {
   "cell_type": "markdown",
   "metadata": {},
   "source": [
    "**Tenemos un error!** ya que el parámetro `a` es un `ndarray` y nuestra función no recibe ese tipo de datos.\n",
    "Entonces debemos recurrir a la función `numpy.vectorize`, la cual crea una nueva función que permite ejecutar nuestra función **element-wise**, es decir, elemento a elemento."
   ]
  },
  {
   "cell_type": "code",
   "execution_count": 49,
   "metadata": {},
   "outputs": [
    {
     "data": {
      "text/plain": [
       "array([6, 2, 2, 8])"
      ]
     },
     "execution_count": 49,
     "metadata": {},
     "output_type": "execute_result"
    }
   ],
   "source": [
    "restaAbs_vec = np.vectorize(restaAbs)\n",
    "a = np.array([1, 5, 9, 15])\n",
    "b = 7\n",
    "restaAbs_vec(a,b)"
   ]
  },
  {
   "cell_type": "markdown",
   "metadata": {},
   "source": [
    "**No hay errores!** ya que ahora utilizamos la función vectorizada."
   ]
  },
  {
   "cell_type": "markdown",
   "metadata": {},
   "source": [
    "Debido a la importancia de NumPy, existe una buena cantidad de material de aprendizaje en Internet, por lo que se recomienda investigar y seguir cursos de NumPy para aprender por su cuenta.\n",
    "Se sugiere revisar la documentación de Numpy en https://numpy.org/doc/stable/."
   ]
  },
  {
   "cell_type": "markdown",
   "metadata": {},
   "source": [
    "### Sobre \"double precision\" en NumPy\n",
    "\n",
    "Considere el siguiente código:"
   ]
  },
  {
   "cell_type": "code",
   "execution_count": 55,
   "metadata": {},
   "outputs": [
    {
     "name": "stdout",
     "output_type": "stream",
     "text": [
      "<class 'numpy.int64'>\n",
      "<class 'numpy.float64'>\n"
     ]
    }
   ],
   "source": [
    "# Creacion de 2 arreglos de NumPy\n",
    "a = np.array([1, 2])\n",
    "b = np.array([1, 2.])\n",
    "\n",
    "# Determinar el tipo de dato almacenado en los segundos elementos de cada arreglo\n",
    "print(type(a[0]))\n",
    "print(type(b[0]))"
   ]
  },
  {
   "cell_type": "markdown",
   "metadata": {},
   "source": [
    "Esto quiere decir que NumPy almacena el arreglo `b` como un arreglo en \"double precision\" si por lo menos algún elemento es un número de punto flotante, en este caso `1.`, que es el primer elemento.\n",
    "\n",
    "El detalle acá es que se le agrega un punto al lado de `1` para asegurar que se interprete como `float64`. El no incluir el punto decimal hace que NumPy almacene el arreglo como un arreglo de enteros `int64`, que es el caso del arreglo `a`.\n",
    "\n",
    "Y si los coeficientes de un arreglo se almacenan como enteros, no aplica lo que sabemos de aritmética de punto flotante en \"double precision\"."
   ]
  },
  {
   "cell_type": "markdown",
   "metadata": {},
   "source": [
    "### Errores comunes: ¿Qué no cuenta como vectorización?\n",
    "\n",
    "Algunos errores comunes que se confunden con vectorización son:"
   ]
  },
  {
   "cell_type": "markdown",
   "metadata": {},
   "source": [
    "* Usar comprensiones de lista:"
   ]
  },
  {
   "cell_type": "code",
   "execution_count": 56,
   "metadata": {},
   "outputs": [],
   "source": [
    "cuadrado = [x[i]**2 for i in range(len(x))]"
   ]
  },
  {
   "cell_type": "markdown",
   "metadata": {},
   "source": [
    "* Usar la función map de Python:"
   ]
  },
  {
   "cell_type": "code",
   "execution_count": 57,
   "metadata": {},
   "outputs": [],
   "source": [
    "cuadrado = list(map(lambda elem: elem**2, x))"
   ]
  },
  {
   "cell_type": "markdown",
   "metadata": {},
   "source": [
    "Ninguna de estas operaciones está vectorizada con NumPy, y sigue estando explícita la operación de elevar cada elemento de `x` al cuadrado.\n",
    "\n",
    "Si se introduce una comprensión de lista o un map en el método `np.array`:"
   ]
  },
  {
   "cell_type": "code",
   "execution_count": null,
   "metadata": {},
   "outputs": [],
   "source": [
    "cuadrado = np.array([x[i]**2 for i in range(len(x))])"
   ]
  },
  {
   "cell_type": "markdown",
   "metadata": {},
   "source": [
    "el resultado **sigue sin ser una operación vectorizada**. El solo hecho de usar `np.array` no significa que el algoritmo usado para generar esa lista esté vectorizado correctamente. En general, hacer algo como esto:"
   ]
  },
  {
   "cell_type": "code",
   "execution_count": null,
   "metadata": {},
   "outputs": [],
   "source": [
    "arr = []\n",
    "# Codigo no vectorizado para generar los elementos de arr.\n",
    "arr = np.array(arr)"
   ]
  },
  {
   "cell_type": "markdown",
   "metadata": {},
   "source": [
    "**no cuenta como vectorización, y es un error común. La vectorización no se trata de los arreglos usados (si se usan arreglos de NumPy o no), sino de las operaciones (si estas son capaces de recibir vectores y aplicarse sobre estos como un todo, usando los trucos de eficiencia ofrecidos por NumPy).**"
   ]
  },
  {
   "cell_type": "markdown",
   "metadata": {},
   "source": [
    "La siguiente sí es una solución vectorizada, pues se aplica sobre el vector como un todo, abstrayendo los detalles de \"elevar elemento por elemento al cuadrado\", y usa las operaciones eficientes de NumPy:"
   ]
  },
  {
   "cell_type": "code",
   "execution_count": null,
   "metadata": {},
   "outputs": [],
   "source": [
    "cuadrado = np.power(x,2.)"
   ]
  },
  {
   "cell_type": "markdown",
   "metadata": {},
   "source": [
    "## Agradecimientos\n",
    "\n",
    "* Parte de este notebook está basado en las explicaciones del estudiante Francisco Manríquez incluidas en los reglamentos de Tareas 2023-2024 de la asignatura.\n",
    "* Parte de este notebook también es del material originalmente creado por el professor Claudio Torres (`ctorres@inf.utfsm.cl`) denominado _Bonus - 00 - The beginning_"
   ]
  }
 ],
 "metadata": {
  "colab": {
   "authorship_tag": "ABX9TyOCXpzxpUUzvonW35UrVpQT",
   "provenance": []
  },
  "kernelspec": {
   "display_name": "Python 3",
   "language": "python",
   "name": "python3"
  },
  "language_info": {
   "codemirror_mode": {
    "name": "ipython",
    "version": 3
   },
   "file_extension": ".py",
   "mimetype": "text/x-python",
   "name": "python",
   "nbconvert_exporter": "python",
   "pygments_lexer": "ipython3",
   "version": "3.13.1"
  }
 },
 "nbformat": 4,
 "nbformat_minor": 4
}
