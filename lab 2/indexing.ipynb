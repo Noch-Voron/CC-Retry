{
 "cells": [
  {
   "cell_type": "markdown",
   "id": "5020f46a",
   "metadata": {},
   "source": [
    "Mi intento de aprender indexing y slicing"
   ]
  },
  {
   "cell_type": "code",
   "execution_count": 3,
   "id": "7be47128",
   "metadata": {},
   "outputs": [],
   "source": [
    "import numpy as np\n",
    "#Primero tengamos una matriz de 4x4\n",
    "A = [[1,  2,  3,  10], \n",
    "     [4,  5,  6,  11], \n",
    "     [7,  8,  9,  12],\n",
    "     [13, 14, 15, 16]]\n",
    "# Para que sea más util, la convertimos a un array de numpy\n",
    "A = np.array(A)"
   ]
  },
  {
   "cell_type": "code",
   "execution_count": null,
   "id": "26ba3da6",
   "metadata": {},
   "outputs": [
    {
     "name": "stdout",
     "output_type": "stream",
     "text": [
      "Primera Fila:  [ 1  2  3 10]\n",
      "Primera Fila2:  [ 1  2  3 10]\n",
      "Primera Columna:  [ 1  4  7 13]\n",
      "Submatriz esquina superior isquierda: \n",
      " [[1 2]\n",
      " [4 5]]\n",
      "Otra submatriz: \n",
      " [[5 6]\n",
      " [8 9]]\n",
      "Otra submatriz: \n",
      " [[ 1  2  3]\n",
      " [ 4  5  6]\n",
      " [ 7  8  9]\n",
      " [13 14 15]]\n",
      "Diagonal:  [ 1  5  9 16]\n",
      "Transpuesta:  [[ 1  4  7 13]\n",
      " [ 2  5  8 14]\n",
      " [ 3  6  9 15]\n",
      " [10 11 12 16]]\n"
     ]
    }
   ],
   "source": [
    "#Ahora vamos a intentar cositas con indexing\n",
    "\n",
    "print(\"Primera Fila: \",A[0]) #Esto nos da la primera fila de la matriz\n",
    "print(\"Primera Fila2: \",A[0, :]) #Esto nos da la primera fila de la matriz\n",
    "print(\"Primera Columna: \",A[:, 0]) #Esto nos da la primera columna de la matriz\n",
    "\n",
    "#más dificil sería obtener submatrices\n",
    "print(\"Submatriz esquina superior isquierda: \\n\", A[0:2, 0:2]) #Esto nos da la submatriz de la esquina superior izquierda\n",
    "print(\"Otra submatriz: \\n\",A[1:3, 1:3]) #Esto nos da la submatriz de la esquina inferior derecha\n",
    "print(\"Otra submatriz: \\n\", A[:,:3])\n",
    "\n",
    "#Podemos obtener la diagonal de la matriz con np.diag\n",
    "print(\"Diagonal: \",np.diag(A)) #Esto nos da la diagonal de la matriz\n",
    "#Podemos obtener la transpuesta de la matriz con np.transpose\n",
    "print(\"Transpuesta: \\n\",np.transpose(A))"
   ]
  },
  {
   "cell_type": "code",
   "execution_count": null,
   "id": "1a204ef5",
   "metadata": {},
   "outputs": [
    {
     "data": {
      "text/plain": [
       "array([ 5,  6, 11])"
      ]
     },
     "execution_count": 16,
     "metadata": {},
     "output_type": "execute_result"
    }
   ],
   "source": [
    "#Cambiando a un modo más complejo de verlo.\n",
    "\n",
    "# Intentemos recordar lo que era usar el : en listas\n",
    "# si tengo [1:] sería todo lo que está a la derecha del primer elemento\n",
    "# Si quiero hacerlo con la matriz, tengo que sacar alguna fila (obtengo lista) y hago la operación\n",
    "A[1,1:]\n",
    "\n"
   ]
  },
  {
   "cell_type": "code",
   "execution_count": 20,
   "id": "b9a620cb",
   "metadata": {},
   "outputs": [
    {
     "data": {
      "text/plain": [
       "array([[1, 3],\n",
       "       [7, 9]])"
      ]
     },
     "execution_count": 20,
     "metadata": {},
     "output_type": "execute_result"
    }
   ],
   "source": [
    "# Algo aún más complejo es steps.\n",
    "# es de este formato:\n",
    "# start:stop:step\n",
    "# Comienza en start, se detiene en stop y avanza en step pasos.\n",
    "# Por ejemplo, con la matriz A, quiero ver una submatriz a base de los elementos pares. (fila y columnas pares)\n",
    "A[::2,::2]"
   ]
  },
  {
   "cell_type": "code",
   "execution_count": 21,
   "id": "d84faa28",
   "metadata": {},
   "outputs": [
    {
     "data": {
      "text/plain": [
       "array([[ 1,  2,  3, 10],\n",
       "       [ 7,  8,  9, 12]])"
      ]
     },
     "execution_count": 21,
     "metadata": {},
     "output_type": "execute_result"
    }
   ],
   "source": [
    "#otro ejemplo\n",
    "A[::2,:]"
   ]
  },
  {
   "cell_type": "code",
   "execution_count": 27,
   "id": "5fae792c",
   "metadata": {},
   "outputs": [
    {
     "name": "stdout",
     "output_type": "stream",
     "text": [
      "[[ 0  1  2  3  4]\n",
      " [ 5  6  7  8  9]\n",
      " [10 11 12 13 14]\n",
      " [15 16 17 18 19]]\n"
     ]
    },
    {
     "data": {
      "text/plain": [
       "array([[ 6,  7,  8],\n",
       "       [11, 12, 13]])"
      ]
     },
     "execution_count": 27,
     "metadata": {},
     "output_type": "execute_result"
    }
   ],
   "source": [
    "#Más practica.\n",
    "#nueva matriz\n",
    "A = np.arange(20).reshape(4,5)\n",
    "print(A)\n",
    "#Extraer subarray central\n",
    "A[1:3,1:4]"
   ]
  },
  {
   "cell_type": "code",
   "execution_count": null,
   "id": "786e894c",
   "metadata": {},
   "outputs": [
    {
     "data": {
      "text/plain": [
       "array([[15, 16, 17, 18, 19],\n",
       "       [10, 11, 12, 13, 14],\n",
       "       [ 5,  6,  7,  8,  9],\n",
       "       [ 0,  1,  2,  3,  4]])"
      ]
     },
     "execution_count": 17,
     "metadata": {},
     "output_type": "execute_result"
    }
   ],
   "source": [
    "# Invertir el orden de las filas\n",
    "A[::-1,:]"
   ]
  },
  {
   "cell_type": "code",
   "execution_count": 18,
   "id": "c3da45b3",
   "metadata": {},
   "outputs": [
    {
     "data": {
      "text/plain": [
       "array([[ 4,  3,  2,  1,  0],\n",
       "       [ 9,  8,  7,  6,  5],\n",
       "       [14, 13, 12, 11, 10],\n",
       "       [19, 18, 17, 16, 15]])"
      ]
     },
     "execution_count": 18,
     "metadata": {},
     "output_type": "execute_result"
    }
   ],
   "source": [
    "# Invertir el orden de las columnas\n",
    "A[:,::-1]"
   ]
  },
  {
   "cell_type": "code",
   "execution_count": 19,
   "id": "029f5da9",
   "metadata": {},
   "outputs": [
    {
     "data": {
      "text/plain": [
       "array([[19, 18, 17, 16, 15],\n",
       "       [14, 13, 12, 11, 10],\n",
       "       [ 9,  8,  7,  6,  5],\n",
       "       [ 4,  3,  2,  1,  0]])"
      ]
     },
     "execution_count": 19,
     "metadata": {},
     "output_type": "execute_result"
    }
   ],
   "source": [
    "# Invertir el orden de las filas y columnas\n",
    "A[::-1,::-1]"
   ]
  },
  {
   "cell_type": "code",
   "execution_count": 20,
   "id": "91a003bd",
   "metadata": {},
   "outputs": [
    {
     "data": {
      "text/plain": [
       "array([[ 0,  1,  2,  3,  4],\n",
       "       [10, 11, 12, 13, 14]])"
      ]
     },
     "execution_count": 20,
     "metadata": {},
     "output_type": "execute_result"
    }
   ],
   "source": [
    "# Extraer todas las filas pares\n",
    "A[::2,]"
   ]
  },
  {
   "cell_type": "code",
   "execution_count": 22,
   "id": "3bb2655e",
   "metadata": {},
   "outputs": [
    {
     "data": {
      "text/plain": [
       "array([[ 0,  2,  4],\n",
       "       [ 5,  7,  9],\n",
       "       [10, 12, 14],\n",
       "       [15, 17, 19]])"
      ]
     },
     "execution_count": 22,
     "metadata": {},
     "output_type": "execute_result"
    }
   ],
   "source": [
    "# Extraer las columnas impares\n",
    "A[:,::2]"
   ]
  },
  {
   "cell_type": "code",
   "execution_count": 24,
   "id": "e89008ff",
   "metadata": {},
   "outputs": [
    {
     "data": {
      "text/plain": [
       "array([11, 12, 13, 14, 15, 16, 17, 18, 19])"
      ]
     },
     "execution_count": 24,
     "metadata": {},
     "output_type": "execute_result"
    }
   ],
   "source": [
    "A[(A > 10)]"
   ]
  },
  {
   "cell_type": "code",
   "execution_count": 25,
   "id": "622a8e83",
   "metadata": {},
   "outputs": [
    {
     "name": "stdout",
     "output_type": "stream",
     "text": [
      "[[-1  1  2 -1  4]\n",
      " [ 5 -1  7  8 -1]\n",
      " [10 11 -1 13 14]\n",
      " [-1 16 17 -1 19]]\n"
     ]
    }
   ],
   "source": [
    "A[(A %3 == 0)] = -1\n",
    "print(A)"
   ]
  },
  {
   "cell_type": "code",
   "execution_count": 28,
   "id": "46288ff1",
   "metadata": {},
   "outputs": [
    {
     "name": "stdout",
     "output_type": "stream",
     "text": [
      "[[ 0  1  2  3  4]\n",
      " [ 0  0  0  0  0]\n",
      " [10 11 12 13 14]\n",
      " [ 0  0  0  0  0]]\n"
     ]
    }
   ],
   "source": [
    "A[1::2,] = 0\n",
    "print(A)"
   ]
  },
  {
   "cell_type": "code",
   "execution_count": 29,
   "id": "c2c5656f",
   "metadata": {},
   "outputs": [
    {
     "name": "stdout",
     "output_type": "stream",
     "text": [
      "[[[ 0  1  2  3]\n",
      "  [ 4  5  6  7]\n",
      "  [ 8  9 10 11]]\n",
      "\n",
      " [[12 13 14 15]\n",
      "  [16 17 18 19]\n",
      "  [20 21 22 23]]]\n"
     ]
    }
   ],
   "source": [
    "B = np.arange(24).reshape(2,3,4)\n",
    "print(B)"
   ]
  },
  {
   "cell_type": "code",
   "execution_count": 30,
   "id": "c0a58e31",
   "metadata": {},
   "outputs": [
    {
     "data": {
      "text/plain": [
       "array([[12, 13, 14, 15],\n",
       "       [16, 17, 18, 19],\n",
       "       [20, 21, 22, 23]])"
      ]
     },
     "execution_count": 30,
     "metadata": {},
     "output_type": "execute_result"
    }
   ],
   "source": [
    "B[1]"
   ]
  },
  {
   "cell_type": "code",
   "execution_count": 32,
   "id": "d15b73d2",
   "metadata": {},
   "outputs": [
    {
     "data": {
      "text/plain": [
       "array([[ 4,  5,  6,  7],\n",
       "       [16, 17, 18, 19]])"
      ]
     },
     "execution_count": 32,
     "metadata": {},
     "output_type": "execute_result"
    }
   ],
   "source": [
    "B[:,1,]"
   ]
  },
  {
   "cell_type": "code",
   "execution_count": 33,
   "id": "68835284",
   "metadata": {},
   "outputs": [
    {
     "data": {
      "text/plain": [
       "array([[ 3,  7, 11],\n",
       "       [15, 19, 23]])"
      ]
     },
     "execution_count": 33,
     "metadata": {},
     "output_type": "execute_result"
    }
   ],
   "source": [
    "B[:,:,-1]"
   ]
  },
  {
   "cell_type": "code",
   "execution_count": 34,
   "id": "1991d32e",
   "metadata": {},
   "outputs": [
    {
     "data": {
      "text/plain": [
       "array([[[ 3,  2,  1,  0],\n",
       "        [ 7,  6,  5,  4],\n",
       "        [11, 10,  9,  8]],\n",
       "\n",
       "       [[15, 14, 13, 12],\n",
       "        [19, 18, 17, 16],\n",
       "        [23, 22, 21, 20]]])"
      ]
     },
     "execution_count": 34,
     "metadata": {},
     "output_type": "execute_result"
    }
   ],
   "source": [
    "B[:,:,::-1]"
   ]
  },
  {
   "cell_type": "code",
   "execution_count": 35,
   "id": "eb00a29a",
   "metadata": {},
   "outputs": [
    {
     "data": {
      "text/plain": [
       "array([16, 17, 18, 19, 20, 21, 22, 23])"
      ]
     },
     "execution_count": 35,
     "metadata": {},
     "output_type": "execute_result"
    }
   ],
   "source": [
    "B[(B > 15)]"
   ]
  },
  {
   "cell_type": "code",
   "execution_count": 16,
   "id": "ca46ac6b",
   "metadata": {},
   "outputs": [
    {
     "name": "stdout",
     "output_type": "stream",
     "text": [
      "[[ 1.  2.  3.  4.  5.]\n",
      " [ 6.  7.  8.  9. 10.]\n",
      " [11. 12. 13. 14. 15.]\n",
      " [16. 17. 18. 19. 20.]\n",
      " [21. 22. 23. 24. 25.]]\n"
     ]
    },
    {
     "data": {
      "text/plain": [
       "array([ 5.,  9., 13., 17., 21.])"
      ]
     },
     "execution_count": 16,
     "metadata": {},
     "output_type": "execute_result"
    }
   ],
   "source": [
    "C = np.arange(1.,26.).reshape(5,5)\n",
    "print(C)\n",
    "np.diag(C[::1,::-1])"
   ]
  },
  {
   "cell_type": "code",
   "execution_count": 17,
   "id": "4aa8ce4c",
   "metadata": {},
   "outputs": [
    {
     "data": {
      "text/plain": [
       "array([1.        , 0.14285714, 0.07692308, 0.05263158, 0.04      ])"
      ]
     },
     "execution_count": 17,
     "metadata": {},
     "output_type": "execute_result"
    }
   ],
   "source": [
    "D= np.diag(C)\n",
    "D**-1"
   ]
  }
 ],
 "metadata": {
  "kernelspec": {
   "display_name": "Python 3",
   "language": "python",
   "name": "python3"
  },
  "language_info": {
   "codemirror_mode": {
    "name": "ipython",
    "version": 3
   },
   "file_extension": ".py",
   "mimetype": "text/x-python",
   "name": "python",
   "nbconvert_exporter": "python",
   "pygments_lexer": "ipython3",
   "version": "3.12.6"
  }
 },
 "nbformat": 4,
 "nbformat_minor": 5
}
